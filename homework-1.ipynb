{
 "cells": [
  {
   "cell_type": "markdown",
   "metadata": {},
   "source": [
    "**(2 points)** Given a vector **a** and a set of vectors $$X = x_1, \\ldots, x_m$$, we say that $x_i$ is the nearest neighbor of **a** if it’s the closest vector to **a** from the $set(X)$. In ML, the idea of the nearest neighbor and its generalization, k-nearest neighbors, is used for solving classification and regression problems (see k-nearest neighbors algorithm).\n",
    "\n",
    "Find the nearest neighbor of\n",
    "\n",
    "$$\n",
    "\\mathbf{a} = \\begin{bmatrix} 3 \\\\ 1 \\\\ 4 \\end{bmatrix}\n",
    "$$\n",
    "\n",
    "from the set of vectors \\( x_1, \\ldots, x_4 \\) below:\n",
    "\n",
    "$$\n",
    "x_1 = \\begin{bmatrix} 4 \\\\ 3 \\\\ 6 \\end{bmatrix}, \\quad\n",
    "x_2 = \\begin{bmatrix} 3 \\\\ 1 \\\\ 9 \\end{bmatrix}, \\quad\n",
    "x_3 = \\begin{bmatrix} 1 \\\\ 4 \\\\ 10 \\end{bmatrix}, \\quad\n",
    "x_4 = \\begin{bmatrix} 3 \\\\ 4 \\\\ 0 \\end{bmatrix}\n",
    "$$\n",
    "\n",
    "If there is more than one nearest neighbor, mark all of them.\n"
   ]
  },
  {
   "cell_type": "markdown",
   "metadata": {},
   "source": [
    "## a) Euclidean distance"
   ]
  },
  {
   "cell_type": "code",
   "execution_count": 1,
   "metadata": {},
   "outputs": [],
   "source": [
    "import numpy as np"
   ]
  },
  {
   "cell_type": "code",
   "execution_count": 3,
   "metadata": {},
   "outputs": [],
   "source": [
    "a = np.array([3,1,4])\n",
    "x1 = np.array([4,3,6])\n",
    "x2 = np.array([3,1,9])\n",
    "x3 = np.array([1,4,10])\n",
    "x4 = np.array([3,4,0])"
   ]
  },
  {
   "cell_type": "code",
   "execution_count": 4,
   "metadata": {},
   "outputs": [
    {
     "name": "stdout",
     "output_type": "stream",
     "text": [
      "3.0 5.0 7.0 5.0\n",
      "x1 is the nearest point\n"
     ]
    }
   ],
   "source": [
    "def find_distance(a,x):\n",
    "    distance = np.sqrt(np.sum(np.square(a-x)))\n",
    "    return distance\n",
    "\n",
    "d1 = find_distance(a,x1)\n",
    "d2 = find_distance(a,x2)\n",
    "d3 = find_distance(a,x3)\n",
    "d4 = find_distance(a,x4)\n",
    "\n",
    "print(d1,d2,d3,d4)\n",
    "if d1 == min(d1,d2,d3,d4):\n",
    "    print(\"x1 is the nearest point\")\n",
    "elif d2 == min(d1,d2,d3,d4):\n",
    "    print(\"x2 is the nearest point\")\n",
    "elif d3 == min(d1,d2,d3,d4):\n",
    "    print(\"x3 is the nearest point\")\n",
    "else:\n",
    "    print(\"x4 is the nearest point\")"
   ]
  },
  {
   "cell_type": "markdown",
   "metadata": {},
   "source": [
    "## b) Cosine similarity"
   ]
  },
  {
   "cell_type": "code",
   "execution_count": 12,
   "metadata": {},
   "outputs": [
    {
     "name": "stdout",
     "output_type": "stream",
     "text": [
      "0.9792938238560597 0.9456936252285787 0.8521543260453266 0.5099019513592785\n",
      "x1 is the nearest point\n"
     ]
    }
   ],
   "source": [
    "def cosine_similarity(a,x):\n",
    "    similarty =  np.dot(a,x) / (np.linalg.norm(a) * np.linalg.norm(x))\n",
    "    return similarty\n",
    "\n",
    "s1 = cosine_similarity(a,x1)\n",
    "s2 = cosine_similarity(a,x2)\n",
    "s3 = cosine_similarity(a,x3)\n",
    "s4 = cosine_similarity(a,x4)\n",
    "print(s1,s2,s3,s4)\n",
    "if s1  == max(s1,s2,s3,s4):\n",
    "    print('x1 is the nearest point')\n",
    "elif s2 == max(s1,s2,s3,s4):\n",
    "    print('x2 is the nearest point')\n",
    "elif s3 == max(s1,s2,s3,s4):\n",
    "    print('x3 is the nearest point')\n",
    "else:\n",
    "    print('x4 is the nearest point')"
   ]
  },
  {
   "cell_type": "markdown",
   "metadata": {},
   "source": [
    "**2. (2 points)** Consider a linear classifier with the following separating hyperplane:\n",
    "\n",
    "$$\n",
    "x_1 + x_2 − x_3 + x_4 − x_5 = 2\n",
    "$$\n",
    "\n",
    "According to this classifier, which class labels will be assigned to the examples (a) - (e)?\n",
    "\n",
    "| Example | $x_1$  | $x_2$ | $x_3$ | $x_4$ | $x_5$ |\n",
    "| ------- | --------- | --------- | --------- | --------- | --------- |\n",
    "| **a**   | 1         | 0         | 1         | 0         | 0         |\n",
    "| **b**   | 0         | 1         | 1         | 0         | 1         |\n",
    "| **c**   | 1         | 1         | 1         | 1         | 1         |\n",
    "| **d**   | 2         | 0         | 1         | 0         | 1         |\n",
    "| **e**   | 2         | 2         | 0         | 0         | 0         |\n"
   ]
  },
  {
   "cell_type": "code",
   "execution_count": 17,
   "metadata": {},
   "outputs": [],
   "source": [
    "def fitting(x1,x2,x3,x4,x5):\n",
    "    result = x1 + x2 - x3 + x4 - x5\n",
    "    if result > 2:\n",
    "        return 1\n",
    "    else:\n",
    "        return 0"
   ]
  },
  {
   "cell_type": "code",
   "execution_count": 19,
   "metadata": {},
   "outputs": [
    {
     "name": "stdout",
     "output_type": "stream",
     "text": [
      "a belongs to negative class\n",
      "b belongs to negative class\n",
      "c belongs to negative class\n",
      "d belongs to negative class\n",
      "e belongs to postive class\n"
     ]
    }
   ],
   "source": [
    "#According to this classifier, which class labels will be assigned to the examples (a) - (e)?\n",
    "data_set = {\n",
    "    'a' : [1,0,1,0,0],\n",
    "    'b' : [0,1,1,0,1],\n",
    "    'c' : [1,1,1,1,1],\n",
    "    'd' : [2,0,1,0,1],\n",
    "    'e' : [2,2,0,0,0]\n",
    "}\n",
    "\n",
    "for labels,items in data_set.items():\n",
    "    if fitting(items[0],items[1],items[2],items[3],items[4]) == 1:\n",
    "        print(f'{labels} belongs to postive class')\n",
    "    else:\n",
    "        print(f'{labels} belongs to negative class')"
   ]
  },
  {
   "cell_type": "markdown",
   "metadata": {},
   "source": [
    "**3. (3 points)** During the lectures, we discussed the concept of linear (in)dependence and saw examples of linearly (in)dependent sets of vectors.\n",
    "A general way to check linear independence of a given set of vectors is to combine those vectors in a matrix and bring it to reduced row echelon form (RREF) with the help of elementary row operations.\n",
    "If you are not yet familiar with this procedure, you can learn more about bringing a matrix to its RREF in this video. There is also another video that demonstrates how we can test a set of vectors for linear independence.\n",
    "Once you are ready, you can solve the questions in this section.\n",
    "\n",
    "**(a) (1 point)** Consider vectors $$v_1, v_2, v_3 , v_4$$ defined below:\n",
    "\n",
    "$$\n",
    "v_1 = \\begin{bmatrix} 0 \\\\ 1 \\\\ 1 \\\\ 1 \\end{bmatrix}, \\quad \n",
    "v_2 = \\begin{bmatrix} 1 \\\\ 2 \\\\ 0 \\\\ 3 \\end{bmatrix}, \\quad \n",
    "v_3 = \\begin{bmatrix} 2 \\\\ 4 \\\\ 1 \\\\ 3 \\end{bmatrix}, \\quad \n",
    "v_4 = \\begin{bmatrix} 1 \\\\ 2 \\\\ 1 \\\\ 0 \\end{bmatrix}\n",
    "$$\n",
    "\n",
    "What is the dimensionality of the subspace $$V = span\\{v_1, v_2, v_3 , v_4\\}$$ spanned by these vectors?\n"
   ]
  },
  {
   "cell_type": "markdown",
   "metadata": {},
   "source": [
    "### RREF using algorithms"
   ]
  },
  {
   "cell_type": "code",
   "execution_count": 10,
   "metadata": {},
   "outputs": [
    {
     "name": "stdout",
     "output_type": "stream",
     "text": [
      "[[ 1.  0.  0.  0.]\n",
      " [ 0.  1.  0. -1.]\n",
      " [ 0.  0.  1.  1.]\n",
      " [ 0.  0.  0.  0.]]\n",
      "The dimensionality of the subspace V is: 3\n"
     ]
    }
   ],
   "source": [
    "def rref(matrix):\n",
    "    l = 0\n",
    "    rows, cols = matrix.shape\n",
    "    for r in range(rows):\n",
    "        if l >= cols:\n",
    "            return matrix\n",
    "        i = r\n",
    "        while matrix[i][l] == 0:\n",
    "            i += 1\n",
    "            if i == rows:\n",
    "                i = r\n",
    "                l += 1\n",
    "                if cols == l:\n",
    "                    return matrix\n",
    "        matrix[i], matrix[r] = matrix[r], matrix[i].copy()\n",
    "        lv = matrix[r][l]\n",
    "        matrix[r] = matrix[r] / lv\n",
    "        for i in range(rows):\n",
    "            if i != r:\n",
    "                lv = matrix[i][l]\n",
    "                matrix[i] = matrix[i] - lv * matrix[r]\n",
    "        l += 1\n",
    "    return matrix\n",
    "\n",
    "\n",
    "matrix = np.array([[0,1,2,1],[1,2,4,2],[1,0,1,1],[1,3,3,0]], dtype=float)\n",
    "result = rref(matrix)\n",
    "print(result)\n",
    "\n",
    "pivot_count = 0\n",
    "for row in result:\n",
    "    if any(row != 0):  \n",
    "        pivot_count += 1\n",
    "\n",
    "print(f\"The dimensionality of the subspace V is: {pivot_count}\")\n"
   ]
  },
  {
   "cell_type": "markdown",
   "metadata": {},
   "source": [
    "### RREF using build-in libraries (sympy) \n"
   ]
  },
  {
   "cell_type": "code",
   "execution_count": 16,
   "metadata": {},
   "outputs": [
    {
     "name": "stdout",
     "output_type": "stream",
     "text": [
      "The dimensionality of the subspace V is: 3\n"
     ]
    },
    {
     "data": {
      "text/latex": [
       "$\\displaystyle \\left[\\begin{matrix}1 & 0 & 0 & 0\\\\0 & 1 & 0 & -1\\\\0 & 0 & 1 & 1\\\\0 & 0 & 0 & 0\\end{matrix}\\right]$"
      ],
      "text/plain": [
       "Matrix([\n",
       "[1, 0, 0,  0],\n",
       "[0, 1, 0, -1],\n",
       "[0, 0, 1,  1],\n",
       "[0, 0, 0,  0]])"
      ]
     },
     "execution_count": 16,
     "metadata": {},
     "output_type": "execute_result"
    }
   ],
   "source": [
    "from sympy import Matrix\n",
    "\n",
    "m = Matrix([[0,1,2,1],[1,2,4,2],[1,0,1,1],[1,3,3,0]])\n",
    "rref_matrix, pivot_columns = m.rref()\n",
    "\n",
    "num_pivot_columns = len(pivot_columns)\n",
    "print(f\"The dimensionality of the subspace V is: {num_pivot_columns}\")\n",
    "rref_matrix"
   ]
  },
  {
   "cell_type": "markdown",
   "metadata": {},
   "source": [
    "**4. (3 points)** Consider two sets of vectors, $B$ and $S$:\n",
    "\n",
    "$$\n",
    "B = \\left\\{ b_1 = \\begin{bmatrix} 1 \\\\ 2 \\\\ 1 \\end{bmatrix}, \\quad\n",
    "            b_2 = \\begin{bmatrix} 2 \\\\ 3 \\\\ 3 \\end{bmatrix}, \\quad\n",
    "            b_3 = \\begin{bmatrix} 3 \\\\ 8 \\\\ 2 \\end{bmatrix} \\right\\}\n",
    "$$\n",
    "\n",
    "$$\n",
    "S = \\left\\{ s_1 = \\begin{bmatrix} 3 \\\\ 5 \\\\ 8 \\end{bmatrix}, \\quad\n",
    "            s_2 = \\begin{bmatrix} 5 \\\\ 14 \\\\ 13 \\end{bmatrix}, \\quad\n",
    "            s_3 = \\begin{bmatrix} 1 \\\\ 9 \\\\ 2 \\end{bmatrix} \\right\\}\n",
    "$$\n",
    "\n",
    "Both $S$ and $B$  form valid bases in ${R}^3$. Find a transition matrix $A_{B \\rightarrow S}$ from basis $B$ to basis $S$.\n"
   ]
  },
  {
   "cell_type": "code",
   "execution_count": 18,
   "metadata": {},
   "outputs": [
    {
     "data": {
      "text/latex": [
       "$\\displaystyle \\left[\\begin{matrix}1 & 0 & 0 & 13 & 19 & \\frac{181}{4}\\\\0 & 1 & 0 & -9 & -13 & - \\frac{63}{2}\\\\0 & 0 & 1 & 7 & 10 & \\frac{99}{4}\\end{matrix}\\right]$"
      ],
      "text/plain": [
       "Matrix([\n",
       "[1, 0, 0, 13,  19, 181/4],\n",
       "[0, 1, 0, -9, -13, -63/2],\n",
       "[0, 0, 1,  7,  10,  99/4]])"
      ]
     },
     "execution_count": 18,
     "metadata": {},
     "output_type": "execute_result"
    }
   ],
   "source": [
    "m = Matrix([\n",
    "    [3 , 5 , 1 , 1 , 2 , 3],\n",
    "    [5 , 14 , 9 , 2 , 3 , 8], \n",
    "    [8 , 13 , 2 , 1 , 3 , 2]\n",
    "])\n",
    "result,pivot_columns = m.rref()\n",
    "result"
   ]
  },
  {
   "cell_type": "code",
   "execution_count": 21,
   "metadata": {},
   "outputs": [
    {
     "name": "stdout",
     "output_type": "stream",
     "text": [
      "Transition Matrix:\n"
     ]
    },
    {
     "data": {
      "text/latex": [
       "$\\displaystyle \\left[\\begin{matrix}13 & 19 & \\frac{181}{4}\\\\-9 & -13 & - \\frac{63}{2}\\\\7 & 10 & \\frac{99}{4}\\end{matrix}\\right]$"
      ],
      "text/plain": [
       "Matrix([\n",
       "[13,  19, 181/4],\n",
       "[-9, -13, -63/2],\n",
       "[ 7,  10,  99/4]])"
      ]
     },
     "execution_count": 21,
     "metadata": {},
     "output_type": "execute_result"
    }
   ],
   "source": [
    "print(\"Transition Matrix:\")\n",
    "result[:,3:]"
   ]
  }
 ],
 "metadata": {
  "kernelspec": {
   "display_name": "venv",
   "language": "python",
   "name": "python3"
  },
  "language_info": {
   "codemirror_mode": {
    "name": "ipython",
    "version": 3
   },
   "file_extension": ".py",
   "mimetype": "text/x-python",
   "name": "python",
   "nbconvert_exporter": "python",
   "pygments_lexer": "ipython3",
   "version": "3.12.4"
  }
 },
 "nbformat": 4,
 "nbformat_minor": 2
}

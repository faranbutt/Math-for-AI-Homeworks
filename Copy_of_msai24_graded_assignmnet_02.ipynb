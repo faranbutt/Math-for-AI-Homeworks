{
  "nbformat": 4,
  "nbformat_minor": 0,
  "metadata": {
    "colab": {
      "provenance": []
    },
    "kernelspec": {
      "name": "python3",
      "display_name": "Python 3"
    },
    "language_info": {
      "name": "python"
    }
  },
  "cells": [
    {
      "cell_type": "markdown",
      "source": [
        "# **GRADED ASSIGNMENT 2**\n",
        "\n",
        "This is a programming task dedicated to the method of least squares.\n",
        "\n",
        "First, make your own copy of the notebook (*File $\\rightarrow$ Save a copy in Drive*) or download the notebook to your machine if you prefer to work locally (*File $\\rightarrow$ Download*).\n",
        "\n",
        "Then, implement your solutions to the tasks formulated in the notebook. You can add **code cells** to write some code and **text cells** in case you want to include additional explanations to your answers in plain English.\n",
        "\n",
        "Finally, save your notebook as a .pdf file and attach it to the submission form. **Make sure that all the cells are executed and all relevant outputs are being printed out**.\n"
      ],
      "metadata": {
        "id": "-hoAinoOtGlw"
      }
    },
    {
      "cell_type": "code",
      "execution_count": 52,
      "metadata": {
        "id": "xzirwP1VYnSH"
      },
      "outputs": [],
      "source": [
        "import numpy as np\n",
        "\n",
        "import matplotlib.pyplot as plt\n",
        "%matplotlib inline"
      ]
    },
    {
      "cell_type": "markdown",
      "source": [
        "## **Loading the data**\n",
        "\n",
        "<img src=\"https://thumbor.forbes.com/thumbor/fit-in/960x/https://www.forbes.com/wheels/wp-content/uploads/2020/08/dealer-lot-copy.jpg\" width=\"400\">\n",
        "\n",
        "In this part of the assignment, you will be working with a toy dataset that contains infromation about ages and prices of 25 cars. Run the cell below to load the data in memory:"
      ],
      "metadata": {
        "id": "BGfeSntftZDI"
      }
    },
    {
      "cell_type": "code",
      "source": [
        "age = np.array([ 6., 26., 14., 38., 20., 31., 10.,  7.,  9.,  7., 5., 16., 20.,\n",
        "                 33., 37., 26., 37., 42.,  3.,  1.,  4., 2., 31., 39., 44.])\n",
        "\n",
        "price = np.array([19000.,  5500., 24500., 32000.,  7500., 12500., 24000., 46500.,\n",
        "                  20000., 46500., 67500.,  3000., 17000., 30000., 38500.,  3500.,\n",
        "                  38500.,  60000., 36000., 93500., 22500., 38500., 12500., 37500.,\n",
        "                  74500.])"
      ],
      "metadata": {
        "id": "-UqI2TAPpwVO"
      },
      "execution_count": 53,
      "outputs": []
    },
    {
      "cell_type": "markdown",
      "source": [
        "## **Task 1: A simple model** *(2 points)*\n",
        "\n",
        "Imagine that you need to predict car's price based on its age. To that end, as a strating point, you decide to model the relationship between the two as a linear function:\n",
        "\n",
        "$$car\\_price = w_0 + w_1 \\cdot car\\_age$$"
      ],
      "metadata": {
        "id": "hLCjyke5tdyM"
      }
    },
    {
      "cell_type": "markdown",
      "source": [
        "*(1 point)* **Fit a straight line to the data available using the method of least squares. What are the optimal values for the model coefficients $w_0$ and $w_0$ that you have obtained?**\n",
        "\n",
        "<font color='red'>Do **not** use any readily-available implementation of the linear regression model. Instead, implement your own solution based on what we have derived during exercise session 3.</font>"
      ],
      "metadata": {
        "id": "c1pVC5bgv_NA"
      }
    },
    {
      "cell_type": "code",
      "source": [
        "# TODO: your code here\n",
        "X = np.c_[np.ones((len(age),1)),age]\n",
        "y = np.reshape(price,(len(price),1))\n",
        "w_old = np.linalg.inv(X.T@X)@X.T@y\n",
        "print('W0:' + str(w_old[0]))\n",
        "print('W1:' + str(w_old[1]))\n"
      ],
      "metadata": {
        "id": "ATOUxAl8uskE",
        "outputId": "5e9070b0-449b-4551-8c99-34ef335007cb",
        "colab": {
          "base_uri": "https://localhost:8080/"
        }
      },
      "execution_count": 54,
      "outputs": [
        {
          "output_type": "stream",
          "name": "stdout",
          "text": [
            "W0:[33976.48378028]\n",
            "W1:[-75.61435927]\n"
          ]
        }
      ]
    },
    {
      "cell_type": "markdown",
      "source": [
        "*(1 point)* **Make a plot that would visualize the original data, as well as the predictions obtained by your model.**"
      ],
      "metadata": {
        "id": "VZhn8NFJwX9i"
      }
    },
    {
      "cell_type": "code",
      "source": [
        "# TODO: your code here\n",
        "pridicted_price = age * w_old[1] + w_old[0]\n",
        "plt.scatter(age,price,label='data',color='blue')\n",
        "plt.plot(age,pridicted_price,label='fitted line',color='red')\n",
        "plt.xlabel('age ()')\n",
        "plt.ylabel('price ($)')\n",
        "plt.title('Car Price vs Age')\n",
        "plt.legend()\n",
        "plt.show()"
      ],
      "metadata": {
        "id": "UTfBXxcRqEVM",
        "outputId": "9b93a50b-97c1-4209-8275-345223c3c7a2",
        "colab": {
          "base_uri": "https://localhost:8080/",
          "height": 472
        }
      },
      "execution_count": 55,
      "outputs": [
        {
          "output_type": "display_data",
          "data": {
            "text/plain": [
              "<Figure size 640x480 with 1 Axes>"
            ],
            "image/png": "[encoded data removed]"
          },
          "metadata": {}
        }
      ]
    },
    {
      "cell_type": "markdown",
      "source": [
        "## **Task 2: Improving the fit** *(2 points)*\n",
        "\n",
        "From the visualization you have obtained above, you can notice that the nature of the relationship between car age and its price is not linear. Indeed, both very new and very old cars can be expensive, while moderately old cars are generally cheaper. Thus, car price can be better modelled as a *quadratic* function of its age:\n",
        "\n",
        "$$car\\_price = w_0 + w_1 \\cdot car\\_age + w_2 \\cdot car\\_age^2$$"
      ],
      "metadata": {
        "id": "C3ixaLx5u7IS"
      }
    },
    {
      "cell_type": "markdown",
      "source": [
        "*(2 points)* **Explain how you can use the method of least squares to fit such\n",
        "a quadratic curve to the data. Implement your solution and report the optimal values of the model coefficients $w_0, w_1$ and $w_2$**."
      ],
      "metadata": {
        "id": "WlbMvig68qMi"
      }
    },
    {
      "cell_type": "markdown",
      "source": [
        "\n",
        "To model the car price as a quadratic function of its age, we need to adjust our regression equation to account for the squared term of the car's age. The new model is:\n",
        "\n",
        "$$ price = w_0 − w_1 \\cdot age + w_2 \\cdot age^2$$\n",
        "Now we will fit the quardatic curve using following these steps\n",
        "\n",
        "\n",
        "1.   We will expand the original features to include both the $age$ and $age^2$\n",
        "2.   This will create a system of linear equations with 3 columns each representing $w_0, w_1, w_2$.We will solve for $w_0, w_1, w_2$\n",
        "3. System can be represented as $$ y = Xw$$ where $w = [w_0,w_1,w_2]$\n",
        "4. We will use least square method to solve for $w^*$\n",
        "$$ w^* = (X^T \\cdot X) \\cdot X^T \\cdot y $$\n",
        "5. After we get $w$ we will get the projection $y^*$\n",
        "$$y^* = X \\cdot w^* $$\n",
        "$$y^* = X \\cdot (X^T \\cdot X) \\cdot X^T \\cdot y$$\n",
        "where $$ X \\cdot (X^T \\cdot X) \\cdot X^T = projection \\ matrix$$\n",
        "\n",
        "\n"
      ],
      "metadata": {
        "id": "rsoibtzpTFAf"
      }
    },
    {
      "cell_type": "code",
      "source": [
        "# TODO: your code here\n",
        "X = np.column_stack((np.ones_like(age),age,age**2))\n",
        "y = np.reshape(price,(len(price),1))\n",
        "w = np.linalg.inv(X.T@X)@X.T@y\n",
        "print('W0:' + str(w[0]))\n",
        "print('W1:' + str(w[1]))\n",
        "print('W2:' + str(w[2]))\n",
        "age_range = np.linspace(min(age),max(age),100)          ## I used 100 points for smooth fitting\n",
        "predicted_price = w[0] + w[1] * age_range + w[2] * age_range**2"
      ],
      "metadata": {
        "id": "9EMagYKXqRQY",
        "outputId": "84a3da3e-9dbc-4b80-d094-8074f23b838a",
        "colab": {
          "base_uri": "https://localhost:8080/"
        }
      },
      "execution_count": 56,
      "outputs": [
        {
          "output_type": "stream",
          "name": "stdout",
          "text": [
            "W0:[67864.16676265]\n",
            "W1:[-5679.30899716]\n",
            "W2:[129.93792575]\n"
          ]
        }
      ]
    },
    {
      "cell_type": "markdown",
      "source": [
        "*(1 point)* **Make a plot that would visualize the original data, as well as the predictions obtained by the updated model.**"
      ],
      "metadata": {
        "id": "0xy2XmfO7x_l"
      }
    },
    {
      "cell_type": "code",
      "source": [
        "# TODO: your code here\n",
        "plt.scatter(age,price,label='data',color='blue')\n",
        "plt.plot(age_range,predicted_price,label='fitted line',color='red')\n",
        "plt.xlabel('age ()')\n",
        "plt.ylabel('price ($)')\n",
        "plt.title('Car Price vs Age')\n",
        "plt.legend()\n",
        "plt.show()\n"
      ],
      "metadata": {
        "id": "BA95TdmEKwbM",
        "outputId": "2382effa-0c50-4d09-b3e8-eacc6fe2ded3",
        "colab": {
          "base_uri": "https://localhost:8080/",
          "height": 472
        }
      },
      "execution_count": 57,
      "outputs": [
        {
          "output_type": "display_data",
          "data": {
            "text/plain": [
              "<Figure size 640x480 with 1 Axes>"
            ],
            "image/png": "[encoded data removed]"
          },
          "metadata": {}
        }
      ]
    },
    {
      "cell_type": "markdown",
      "source": [
        "## **Task 3: Least Squares via $QR$ factorization** *(6 points)*\n",
        "\n",
        "Solving $Xw = y$ using the method of least squares the way we have derived during the exercise session involves constructing the pseudo-inverse of the input data matrix $X$, which can be computationally expensive when $X$ is large.\n",
        "\n",
        "A trick often used in practice is to decompose $X$ into a product of two matrices, $X = QR$, such that $Q$ is an *orthogonal* matrix, where column vectors are orthogonal  to each other and have unit lengths, and $R$ is an *upper-triangular* matrix.\n",
        "\n",
        "Replacing $X$ by the product of $Q$ and $R$ significantly simplifies and speeds up computing the unknown $w$ due to the special properties of these matrices.\n",
        "\n",
        "**Your task is to fit a simple model $car\\_price = w_0 + w_1 \\cdot car\\_age$ from Task 1 once again, but this time estmating the unknown coefficients using the $QR$ factorization.**\n",
        "\n",
        "**First, watch the following videos to learn more about $QR$-factorization and how it is used to solve least squares problems in the following videos:**\n",
        "- [An Example of QR Factorization](https://youtu.be/VsyNkUo88NM)\n",
        "- [Using QR Factorization to Solve Least-Squares Problems](https://youtu.be/-QY5iwNr9I4)\n",
        "\n",
        "**When you are done, proceed with the tasks below.**\n"
      ],
      "metadata": {
        "id": "BhrH-Y_N7_v0"
      }
    },
    {
      "cell_type": "markdown",
      "source": [
        "*(1 point)* **Is it possible to perform the $QR$-factorization of the matrix $X$? Answer this question by checking if columns of $X$ are linearly independent. Explain.**\n",
        "\n",
        "*Hint: you can use [$\\texttt{np.linalg.matrix_rank()}$](https://numpy.org/doc/stable/reference/generated/numpy.linalg.matrix_rank.html) function to quickly compute rank of a matrix.*\n"
      ],
      "metadata": {
        "id": "CpOpGZEb-7J3"
      }
    },
    {
      "cell_type": "code",
      "source": [
        "# TODO: your code here\n",
        "X = np.column_stack((np.ones_like(age),age))\n",
        "matrix_rank = np.linalg.matrix_rank(X)\n",
        "num_of_cols = X.shape[1]\n",
        "if num_of_cols == matrix_rank:\n",
        "  print('All columns of X are linearly independent. X is a full rank matrix. So it is possible to compute QR factorization of matrix X.')\n",
        "else:\n",
        "  print('All columns of X are not linearly independent. X is not a full rank matrix. So it is not possible to compute QR factorization of matrix X.')"
      ],
      "metadata": {
        "id": "CLZrPr1W_ITL",
        "colab": {
          "base_uri": "https://localhost:8080/"
        },
        "outputId": "fef15372-d6da-4d66-d723-0a1a628dc318"
      },
      "execution_count": 58,
      "outputs": [
        {
          "output_type": "stream",
          "name": "stdout",
          "text": [
            "All columns of X are linearly independent. X is a full rank matrix. So it is possible to compute QR factorization of matrix X.\n"
          ]
        }
      ]
    },
    {
      "cell_type": "markdown",
      "source": [
        "**Now, perform the $QR$-decomposition of $X$ following the steps below.**\n",
        "\n",
        "<font color='red'>Do **not** use any readily-available implementation of the $QR$-factorization. Instead, implement your own solution from scratch based on the tutorials provided above.</font>\n",
        "\n",
        "*(1 point)* **First, construct matrix $Q$ and print it out.**"
      ],
      "metadata": {
        "id": "DMUXRf168z31"
      }
    },
    {
      "cell_type": "code",
      "source": [
        "# TODO: your code here\n",
        "x1 = X[:,0]\n",
        "x2 = X[:,1]\n",
        "## Gram Schmidt Process\n",
        "c2 = np.dot(x2,x1)/np.dot(x1,x1)\n",
        "v2 = x2 - c2*x1\n",
        "## Finding orthonormal Basis vectors\n",
        "u1 = x1 / np.linalg.norm(x1)\n",
        "u2 = v2 / np.linalg.norm(v2)\n",
        "Q = np.column_stack((u1,u2))\n",
        "print(f\"Q : {Q}\")\n"
      ],
      "metadata": {
        "id": "nSwcmHDyq31R",
        "colab": {
          "base_uri": "https://localhost:8080/"
        },
        "outputId": "be35bf40-291a-4ee5-f691-d836875904c5"
      },
      "execution_count": 59,
      "outputs": [
        {
          "output_type": "stream",
          "name": "stdout",
          "text": [
            "Q : [[ 0.2        -0.20120299]\n",
            " [ 0.2         0.07980677]\n",
            " [ 0.2        -0.08879908]\n",
            " [ 0.2         0.24841263]\n",
            " [ 0.2        -0.00449616]\n",
            " [ 0.2         0.15005921]\n",
            " [ 0.2        -0.14500104]\n",
            " [ 0.2        -0.1871525 ]\n",
            " [ 0.2        -0.15905153]\n",
            " [ 0.2        -0.1871525 ]\n",
            " [ 0.2        -0.21525348]\n",
            " [ 0.2        -0.06069811]\n",
            " [ 0.2        -0.00449616]\n",
            " [ 0.2         0.17816019]\n",
            " [ 0.2         0.23436214]\n",
            " [ 0.2         0.07980677]\n",
            " [ 0.2         0.23436214]\n",
            " [ 0.2         0.30461458]\n",
            " [ 0.2        -0.24335445]\n",
            " [ 0.2        -0.27145543]\n",
            " [ 0.2        -0.22930397]\n",
            " [ 0.2        -0.25740494]\n",
            " [ 0.2         0.15005921]\n",
            " [ 0.2         0.26246312]\n",
            " [ 0.2         0.33271556]]\n"
          ]
        }
      ]
    },
    {
      "cell_type": "markdown",
      "source": [
        "*(0.5 points)* **Verify that $Q$ is indeed orthogonal by showing that $Q^{-1} = Q^T$ (or, equivalently, that $Q^TQ = E$).**"
      ],
      "metadata": {
        "id": "RR3Y2Esd99V1"
      }
    },
    {
      "cell_type": "code",
      "source": [
        "# TODO: your code here\n",
        "Q_T = np.transpose(Q)\n",
        "print(Q_T@Q)"
      ],
      "metadata": {
        "id": "NZxRLBPZ-EJt",
        "colab": {
          "base_uri": "https://localhost:8080/"
        },
        "outputId": "64fd0ec6-4cad-42e1-851f-db807d764f03"
      },
      "execution_count": 60,
      "outputs": [
        {
          "output_type": "stream",
          "name": "stdout",
          "text": [
            "[[ 1.00000000e+00 -6.01439392e-17]\n",
            " [-6.01439392e-17  1.00000000e+00]]\n"
          ]
        }
      ]
    },
    {
      "cell_type": "markdown",
      "source": [
        "*(1 point)* **Second, construct matrix $R$. Print it out and verify that it is indeed an upper-triangular matrix.**"
      ],
      "metadata": {
        "id": "EJbxw_SL9fK4"
      }
    },
    {
      "cell_type": "code",
      "source": [
        "# TODO: your code here\n",
        "R = Q_T @ X\n",
        "R"
      ],
      "metadata": {
        "id": "F1EMvVRBsHas",
        "colab": {
          "base_uri": "https://localhost:8080/"
        },
        "outputId": "09957938-cbec-4f23-ecf3-dd9600b8dbc5"
      },
      "execution_count": 61,
      "outputs": [
        {
          "output_type": "execute_result",
          "data": {
            "text/plain": [
              "array([[ 5.00000000e+00,  1.01600000e+02],\n",
              "       [-2.22044605e-16,  7.11719046e+01]])"
            ]
          },
          "metadata": {},
          "execution_count": 61
        }
      ]
    },
    {
      "cell_type": "markdown",
      "source": [
        "*(0.5 point)* **Verify that $X = QR$**."
      ],
      "metadata": {
        "id": "v4HoZ-r9_ZFq"
      }
    },
    {
      "cell_type": "code",
      "source": [
        "# TODO: your code here\n",
        "X_new = Q@R\n",
        "if (np.allclose(X_new,X)):\n",
        "  print(\"Values in X and X_new are equal \")\n",
        "else:\n",
        "  print(\"Values in X and X_new are not equal \")"
      ],
      "metadata": {
        "id": "-OCAqU5dAKZK",
        "colab": {
          "base_uri": "https://localhost:8080/"
        },
        "outputId": "e9881e0f-28d3-4edb-b9c9-e25a629dce36"
      },
      "execution_count": 62,
      "outputs": [
        {
          "output_type": "stream",
          "name": "stdout",
          "text": [
            "Values in X and X_new are equal \n"
          ]
        }
      ]
    },
    {
      "cell_type": "markdown",
      "source": [
        "*(2 point)* **Finally, perform least squares via $QR$ factorization. To do so, express $w$ in terms of $Q, R$ and $y$ and compute its value.**\n",
        "\n",
        "**Compare the coefficients that you get to those obtained in the previous tasks.**"
      ],
      "metadata": {
        "id": "VE1On64l_oYj"
      }
    },
    {
      "cell_type": "code",
      "source": [
        "# TODO: your code here\n",
        "w_new = np.linalg.inv(R)@Q_T@y            # [w0,w1] = R^-1 * transpose(Q) * y\n",
        "if (np.allclose(w_new,w_old)):\n",
        "  print('Values in w_old and w_new are equal ')\n",
        "else:\n",
        "  print('Values in w and w_new are not equal')\n",
        "print('w_new using QR Factorization', w_new)\n",
        "print(\"w_old using Closed Form Solution : \",w_old)"
      ],
      "metadata": {
        "id": "OdZWrVecs2_B",
        "colab": {
          "base_uri": "https://localhost:8080/"
        },
        "outputId": "8d4c87a2-3fd6-4d33-ef8b-a9767224c973"
      },
      "execution_count": 66,
      "outputs": [
        {
          "output_type": "stream",
          "name": "stdout",
          "text": [
            "Values in w_old and w_new are equal \n",
            "w_new using QR Factorization [[33976.48378028]\n",
            " [  -75.61435927]]\n",
            "w_old using Closed Form Solution :  [[33976.48378028]\n",
            " [  -75.61435927]]\n"
          ]
        }
      ]
    },
    {
      "cell_type": "code",
      "source": [],
      "metadata": {
        "id": "V6CtaC4vDbu9"
      },
      "execution_count": null,
      "outputs": []
    }
  ]
}
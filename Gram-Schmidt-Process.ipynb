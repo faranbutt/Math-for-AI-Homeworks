{
  "cells": [
    {
      "cell_type": "markdown",
      "metadata": {
        "id": "F7zHLzlnuMZt"
      },
      "source": [
        "# **Gram-Schmidt Process**\n",
        "\n",
        "In this notebook, you'll implement the Gram-Schmidt process."
      ]
    },
    {
      "cell_type": "markdown",
      "metadata": {
        "id": "nKh8lPIUwpEc"
      },
      "source": [
        "## **NumPy: the very basics**\n",
        "\n",
        "We'll start with reviewing (or getting familiar with) some useful functions from the $\\texttt{numpy}$ library that is used for vector computations in Python.\n",
        "\n",
        "Let's import it first:"
      ]
    },
    {
      "cell_type": "code",
      "execution_count": 1,
      "metadata": {
        "id": "P756WIBG6enC"
      },
      "outputs": [],
      "source": [
        "import numpy as np"
      ]
    },
    {
      "cell_type": "markdown",
      "metadata": {
        "id": "NeTEHWoM61Ly"
      },
      "source": [
        "Here are some useful commands:"
      ]
    },
    {
      "cell_type": "code",
      "execution_count": 2,
      "metadata": {
        "colab": {
          "base_uri": "https://localhost:8080/"
        },
        "id": "Jun76BVVo1NA",
        "outputId": "a03a5a0d-d805-4dda-82a9-55f56a40ac44"
      },
      "outputs": [
        {
          "data": {
            "text/plain": [
              "array([1, 1, 2])"
            ]
          },
          "execution_count": 2,
          "metadata": {},
          "output_type": "execute_result"
        }
      ],
      "source": [
        "# Creating a vector\n",
        "np.array([1, 1, 2])"
      ]
    },
    {
      "cell_type": "code",
      "execution_count": 3,
      "metadata": {
        "colab": {
          "base_uri": "https://localhost:8080/"
        },
        "id": "4OCy6ELKt_ho",
        "outputId": "11f9d0b1-6d43-43fd-c596-a92628116477"
      },
      "outputs": [
        {
          "data": {
            "text/plain": [
              "2.0"
            ]
          },
          "execution_count": 3,
          "metadata": {},
          "output_type": "execute_result"
        }
      ],
      "source": [
        "# Computing dot product\n",
        "np.dot(np.array([1.,1.,1.]), np.array([1.,0.,1.]))"
      ]
    },
    {
      "cell_type": "code",
      "execution_count": 4,
      "metadata": {
        "colab": {
          "base_uri": "https://localhost:8080/"
        },
        "id": "LF2L2u4Vv4ll",
        "outputId": "166c3e38-a278-4cbc-f1c9-79899693f6a3"
      },
      "outputs": [
        {
          "data": {
            "text/plain": [
              "2.449489742783178"
            ]
          },
          "execution_count": 4,
          "metadata": {},
          "output_type": "execute_result"
        }
      ],
      "source": [
        "# Computig length of a vector (default - l2)\n",
        "np.linalg.norm(np.array([1, 1, 2]))"
      ]
    },
    {
      "cell_type": "markdown",
      "metadata": {
        "id": "omxI0nHewMRv"
      },
      "source": [
        "Remember how else can we compute the same vector length using just the dot product? Try it out!\n",
        "\n",
        "Hint: $||x||_2 = \\sqrt{(x,x)}$."
      ]
    },
    {
      "cell_type": "code",
      "execution_count": 5,
      "metadata": {
        "colab": {
          "base_uri": "https://localhost:8080/"
        },
        "id": "3Ig_J6dxwDVI",
        "outputId": "b82b33c6-71f4-4cf4-fe78-7269ef321258"
      },
      "outputs": [
        {
          "data": {
            "text/plain": [
              "2.449489742783178"
            ]
          },
          "execution_count": 5,
          "metadata": {},
          "output_type": "execute_result"
        }
      ],
      "source": [
        "# Your code here\n",
        "np.sqrt(np.dot(np.array([1.,1.,2.]), np.array([1.,1.,2.])))"
      ]
    },
    {
      "cell_type": "markdown",
      "metadata": {
        "id": "WogbwTARwkTV"
      },
      "source": [
        "## **Implementing Gram-Schmidt Process**\n",
        "\n",
        "During the exercise session, we dicscussed the so-called **Gram-Schmidt pocess** that allows one to transform any basis of a linear subspace into an orthogonal one, i.e., into a basis where vectors are mutually orthogonal.\n",
        "\n",
        "Let's recall how this procedure goes.\n",
        "\n",
        "Imagine you have a basis $B = \\{b_1, b_2, ..., b_n\\}$. Let's construct an orthogonal basis $V = \\{v_1, v_2, ..., v_n\\}$ from it.\n",
        "\n",
        "1. Set $v_1 = b_1$.\n",
        "\n",
        "2. Let's look for $v_2$ as $v_2 = b_2 + \\alpha v_1$, where $\\alpha$ is a number that we chose in such a way that the vectors $v_1$ and $v_2$ are indeed orthogonal:\n",
        "\n",
        "$0 = (v_1, v_2) = (v_1, b_2 + \\alpha v_1) = (v_1, b_2) = \\alpha(v_1, v_1)$.\n",
        "\n",
        "So, $\\alpha = - \\frac{(v_1, b_2)}{(v_1, v_1)}$ and we can compute $v_2$ as  $v_2 = b_2 + - \\frac{(v_1, b_2)}{(v_1, v_1)} v_1$.\n",
        "\n",
        "3. Imagine that we've already constructed vectors $v_1, ..., v_{k-1}$ in our orthogonal basis. We are now looking for vector $v_k = b_k + \\alpha_1 v_1 + \\alpha_2 v_2 + ... + \\alpha_{k-1} v_{k-1}$.\n",
        "\n",
        "Again, we chose numbers $\\alpha_1, ..., \\alpha_{k-1}$ in such a way that $(v_k, v_i) = 0 \\ \\forall i = 1, ..., k-1$:\n",
        "\n",
        "$0 = (v_k, v_i) = (v_k, b_k) + \\alpha_1 (v_k, v_1) + ... + \\alpha_i (v_i, v_i) + ... +\\alpha_{k-1}(v_k, v_{k-1}) = (v_k, b_k) + $\n",
        "\n",
        "That means that $\\alpha_i = - \\frac{(v_i, b_k)}{(v_i, v_i)}$ and\n",
        "\n",
        "$v_k = b_k + - \\frac{(v_1, b_k)}{(v_1, v_1)} v_1 + - \\frac{(v_2, b_k)}{(v_2, v_2)} v_2 + ... + - \\frac{(v_{k-1}, b_k)}{(v_{k-1}, v_{k-1})} v_{k-1}$.\n",
        "\n"
      ]
    },
    {
      "cell_type": "markdown",
      "metadata": {
        "id": "-SLteAkAy3qL"
      },
      "source": [
        "Your task is to implement a function that takes a list of basis vectors ($\\texttt{numpy}$-arrays) and constructs an orthogonal basis from it following the Gram-Schmidt process described above."
      ]
    },
    {
      "cell_type": "code",
      "execution_count": 24,
      "metadata": {
        "id": "trJa6fNNpDWS"
      },
      "outputs": [],
      "source": [
        "def gram_schmidt(basis, normalize=False):\n",
        "  v1 = basis[0]\n",
        "  v2 = basis[1] - (np.dot(basis[1], v1)/np.dot(v1,v1)) * basis[0]\n",
        "  v3 = basis[2] - np.dot(basis[2], v1)/np.dot(v1,v1) * basis[0] - np.dot(basis[2], v2)/np.dot(v2,v2) * v2\n",
        "  if normalize:\n",
        "    n1 = v1/np.sqrt(np.dot(v1,v1))\n",
        "    n2 = v2/np.sqrt(np.dot(v2,v2))\n",
        "    n3 = v3/np.sqrt(np.dot(v3,v3))\n",
        "    return n1,n2,n3\n",
        "  else:\n",
        "    return v1,v2,v3"
      ]
    },
    {
      "cell_type": "code",
      "execution_count": 25,
      "metadata": {
        "colab": {
          "base_uri": "https://localhost:8080/"
        },
        "id": "dKwiR24zuU4x",
        "outputId": "5e060342-b492-4ba8-99c5-bfe3422b7ab6"
      },
      "outputs": [
        {
          "data": {
            "text/plain": [
              "(array([1., 1., 1.]),\n",
              " array([-0.33333333, -0.33333333,  0.66666667]),\n",
              " array([-5.0000000e-01,  5.0000000e-01, -4.4408921e-16]))"
            ]
          },
          "execution_count": 25,
          "metadata": {},
          "output_type": "execute_result"
        }
      ],
      "source": [
        "basis1 = [np.array([1.,1.,1.]),\n",
        "         np.array([1.,1.,2.]),\n",
        "         np.array([1.,2.,3.])]\n",
        "\n",
        "b = gram_schmidt(basis1)\n",
        "b"
      ]
    },
    {
      "cell_type": "markdown",
      "metadata": {
        "id": "ZD5wxCsj7AD8"
      },
      "source": [
        "Let's try to orthogonalize some basis with the help of your new function! Check that everything works as expected."
      ]
    },
    {
      "cell_type": "code",
      "execution_count": 26,
      "metadata": {
        "colab": {
          "base_uri": "https://localhost:8080/"
        },
        "id": "YLGbmIhHp0iF",
        "outputId": "4e5fd6e2-8796-4263-ffa1-a41fbd32f469"
      },
      "outputs": [
        {
          "data": {
            "text/plain": [
              "(array([0.57735027, 0.57735027, 0.57735027]),\n",
              " array([ 0.        ,  0.70710678, -0.70710678]),\n",
              " array([ 0.81649658, -0.40824829, -0.40824829]))"
            ]
          },
          "execution_count": 26,
          "metadata": {},
          "output_type": "execute_result"
        }
      ],
      "source": [
        "basis2 = [np.array([1.,1.,1.]),\n",
        "         np.array([1.,2.,0.]),\n",
        "         np.array([2.,0.,1.])]\n",
        "\n",
        "gram_schmidt(basis2, normalize=True)"
      ]
    },
    {
      "cell_type": "code",
      "execution_count": 27,
      "metadata": {
        "colab": {
          "base_uri": "https://localhost:8080/"
        },
        "id": "6xkxjrAdtO1h",
        "outputId": "f5979473-0566-41ee-ba63-d67464cdd8e6"
      },
      "outputs": [
        {
          "data": {
            "text/plain": [
              "(array([1., 1., 1.]), array([ 0.,  1., -1.]), array([ 1. , -0.5, -0.5]))"
            ]
          },
          "execution_count": 27,
          "metadata": {},
          "output_type": "execute_result"
        }
      ],
      "source": [
        "v = gram_schmidt(basis2)\n",
        "v"
      ]
    },
    {
      "cell_type": "markdown",
      "metadata": {
        "id": "j_mbGrKg7J3L"
      },
      "source": [
        "Another example:"
      ]
    },
    {
      "cell_type": "markdown",
      "metadata": {
        "id": "PBPPMP_t7Mhp"
      },
      "source": [
        "Now, change the orthogonalization process so that you get not just orthogonal but orthonormal basis.\n",
        "\n",
        "Then, run the examples again to check it out."
      ]
    },
    {
      "cell_type": "code",
      "execution_count": 29,
      "metadata": {
        "id": "3i6wUbiwIImi"
      },
      "outputs": [
        {
          "name": "stdout",
          "output_type": "stream",
          "text": [
            "Normalized basis: (array([0.57735027, 0.57735027, 0.57735027]), array([-0.40824829, -0.40824829,  0.81649658]), array([-7.07106781e-01,  7.07106781e-01, -6.28036983e-16]))\n"
          ]
        }
      ],
      "source": [
        "basis3 = [np.array([1.,1.,1.]),\n",
        "         np.array([1.,1.,2.]),\n",
        "         np.array([1.,2.,3.])]\n",
        "\n",
        "b = gram_schmidt(basis1,normalize=True)\n",
        "print(f'Normalized basis: {b}')"
      ]
    },
    {
      "cell_type": "code",
      "execution_count": null,
      "metadata": {},
      "outputs": [],
      "source": []
    }
  ],
  "metadata": {
    "colab": {
      "provenance": []
    },
    "kernelspec": {
      "display_name": "Python 3",
      "name": "python3"
    },
    "language_info": {
      "codemirror_mode": {
        "name": "ipython",
        "version": 3
      },
      "file_extension": ".py",
      "mimetype": "text/x-python",
      "name": "python",
      "nbconvert_exporter": "python",
      "pygments_lexer": "ipython3",
      "version": "3.12.4"
    }
  },
  "nbformat": 4,
  "nbformat_minor": 0
}
